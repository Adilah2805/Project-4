{
 "cells": [
  {
   "cell_type": "markdown",
   "id": "1e256157",
   "metadata": {},
   "source": [
    "# Convert number to text number"
   ]
  },
  {
   "cell_type": "code",
   "execution_count": null,
   "id": "acb4a262",
   "metadata": {},
   "outputs": [],
   "source": [
    "# definition // = when divide it will not take decimal"
   ]
  },
  {
   "cell_type": "code",
   "execution_count": 403,
   "id": "e24be1ab",
   "metadata": {},
   "outputs": [],
   "source": [
    "def convert_to_words(num):  \n",
    "    if num == 0:  \n",
    "        return \"zero\"  \n",
    "    ones = [\" \", \"one\", \"two\", \"three\", \"four\", \"five\", \"six\", \"seven\", \"eight\", \"nine\"]  \n",
    "    tens = [\"\", \"ten\", \"twenty\", \"thirty\", \"forty\", \"fifty\", \"sixty\", \"seventy\", \"eighty\", \"ninety\"]  \n",
    "    teens = [\"\",\"ten\", \"eleven\", \"twelve\", \"thirteen\", \"fourteen\", \"fifteen\", \"sixteen\", \"seventeen\", \"eighteen\", \"nineteen\"]  \n",
    "    words = \"\"  \n",
    "    \n",
    "    #To convert number from 10,000 until 99,999\n",
    "    if num>= 10000:\n",
    "        words += tens[num // 10000] + \" \"\n",
    "        num %= 10000\n",
    "        if num>= 1000:\n",
    "            words += ones[num // 1000] + \" thousand \"\n",
    "            num %= 1000\n",
    "        if num>= 100:  \n",
    "            words += ones[num // 100] + \" hundred \" \n",
    "            num %= 100 \n",
    "        if num>= 10 and num<= 19:  \n",
    "            words += teens[num - 10] + \" \"  \n",
    "            num = 0  \n",
    "        elif num>= 20:\n",
    "            words += tens[num // 10] + \" \"  \n",
    "            num %= 10 \n",
    "        if num>= 1 and num<= 9:  \n",
    "            words += ones[num] + \"  \"\n",
    "        if num == 0:\n",
    "                words += \" thousand\"\n",
    "        return words.strip() \n",
    "    #To convert number from 1000 until 9999\n",
    "    if num>= 1000:  \n",
    "        words += ones[num // 1000] + \" thousand \"\n",
    "        num %= 1000\n",
    "    #To convert number from 100 until 999\n",
    "    if num>= 100:  \n",
    "        words += ones[num // 100] + \" hundred \" \n",
    "        num %= 100 \n",
    "    #To convert number from 10 until 19\n",
    "    if num>= 10 and num<= 19:  \n",
    "        words += teens[num-10] + \" \"  \n",
    "        num = 0  \n",
    "    #To convert number from 20 until 99\n",
    "    elif num>= 20:\n",
    "        words += tens[num // 10] + \" \"  \n",
    "        num %= 10 \n",
    "    #To convert number from 1 until 9 \n",
    "    if num>= 1 and num<= 9:  \n",
    "        words += ones[num] + \" \"  \n",
    "    return words.strip() \n",
    "        \n"
   ]
  },
  {
   "cell_type": "code",
   "execution_count": 404,
   "id": "3055307d",
   "metadata": {},
   "outputs": [
    {
     "name": "stdout",
     "output_type": "stream",
     "text": [
      "Enter a number: 99999\n",
      "ninety nine thousand nine hundred ninety nine\n"
     ]
    }
   ],
   "source": [
    " num = int(input(\"Enter a number: \"))  \n",
    "words = convert_to_words(num)  \n",
    "print(words)"
   ]
  },
  {
   "cell_type": "markdown",
   "id": "cc579c35",
   "metadata": {},
   "source": [
    "# Convert text number to number"
   ]
  },
  {
   "cell_type": "code",
   "execution_count": 409,
   "id": "cfa45bff",
   "metadata": {},
   "outputs": [
    {
     "name": "stdout",
     "output_type": "stream",
     "text": [
      "Collecting word2number\n",
      "  Downloading word2number-1.1.zip (9.7 kB)\n",
      "  Preparing metadata (setup.py): started\n",
      "  Preparing metadata (setup.py): finished with status 'done'\n",
      "Building wheels for collected packages: word2number\n",
      "  Building wheel for word2number (setup.py): started\n",
      "  Building wheel for word2number (setup.py): finished with status 'done'\n",
      "  Created wheel for word2number: filename=word2number-1.1-py3-none-any.whl size=5567 sha256=38a507f552c869cfa5a0df788411ce938f04b97e0c7a8716ce3dc0c57226b3dc\n",
      "  Stored in directory: c:\\users\\userr\\appdata\\local\\pip\\cache\\wheels\\a0\\4a\\5b\\d2f2df5c344ddbecb8bea759872c207ea91d93f57fb54e816e\n",
      "Successfully built word2number\n",
      "Installing collected packages: word2number\n",
      "Successfully installed word2number-1.1\n"
     ]
    }
   ],
   "source": [
    "!pip install word2number\n"
   ]
  },
  {
   "cell_type": "code",
   "execution_count": 423,
   "id": "1f0a8ec5",
   "metadata": {},
   "outputs": [],
   "source": [
    "import pandas as pd\n",
    "from word2number import w2n"
   ]
  },
  {
   "cell_type": "code",
   "execution_count": 416,
   "id": "85bc5b56",
   "metadata": {},
   "outputs": [],
   "source": [
    "data=pd.read_csv('test.csv', encoding= 'unicode_escape' )"
   ]
  },
  {
   "cell_type": "code",
   "execution_count": 424,
   "id": "36eacab3",
   "metadata": {},
   "outputs": [],
   "source": [
    "data.Number=  data.Number.apply(w2n.word_to_num)"
   ]
  },
  {
   "cell_type": "code",
   "execution_count": 426,
   "id": "ede0bc04",
   "metadata": {},
   "outputs": [
    {
     "data": {
      "text/html": [
       "<div>\n",
       "<style scoped>\n",
       "    .dataframe tbody tr th:only-of-type {\n",
       "        vertical-align: middle;\n",
       "    }\n",
       "\n",
       "    .dataframe tbody tr th {\n",
       "        vertical-align: top;\n",
       "    }\n",
       "\n",
       "    .dataframe thead th {\n",
       "        text-align: right;\n",
       "    }\n",
       "</style>\n",
       "<table border=\"1\" class=\"dataframe\">\n",
       "  <thead>\n",
       "    <tr style=\"text-align: right;\">\n",
       "      <th></th>\n",
       "      <th>Number</th>\n",
       "    </tr>\n",
       "  </thead>\n",
       "  <tbody>\n",
       "    <tr>\n",
       "      <th>0</th>\n",
       "      <td>21</td>\n",
       "    </tr>\n",
       "    <tr>\n",
       "      <th>1</th>\n",
       "      <td>35</td>\n",
       "    </tr>\n",
       "  </tbody>\n",
       "</table>\n",
       "</div>"
      ],
      "text/plain": [
       "   Number\n",
       "0      21\n",
       "1      35"
      ]
     },
     "execution_count": 426,
     "metadata": {},
     "output_type": "execute_result"
    }
   ],
   "source": [
    "data"
   ]
  },
  {
   "cell_type": "code",
   "execution_count": 410,
   "id": "1d6ce278",
   "metadata": {},
   "outputs": [],
   "source": [
    "#def wordnumber(num2):\n",
    "    #from word2number import w2n\n",
    "    #print(w2n.word_to_num(num2))"
   ]
  },
  {
   "cell_type": "code",
   "execution_count": 412,
   "id": "11f50d12",
   "metadata": {},
   "outputs": [
    {
     "name": "stdout",
     "output_type": "stream",
     "text": [
      "Enter a number: ninety nine thousand\n",
      "99000\n"
     ]
    }
   ],
   "source": [
    "#num2 = str(input(\"Enter a number: \"))  \n",
    "#words = wordnumber(num2)  \n",
    "#print(words)"
   ]
  }
 ],
 "metadata": {
  "kernelspec": {
   "display_name": "Python 3 (ipykernel)",
   "language": "python",
   "name": "python3"
  },
  "language_info": {
   "codemirror_mode": {
    "name": "ipython",
    "version": 3
   },
   "file_extension": ".py",
   "mimetype": "text/x-python",
   "name": "python",
   "nbconvert_exporter": "python",
   "pygments_lexer": "ipython3",
   "version": "3.9.13"
  }
 },
 "nbformat": 4,
 "nbformat_minor": 5
}
